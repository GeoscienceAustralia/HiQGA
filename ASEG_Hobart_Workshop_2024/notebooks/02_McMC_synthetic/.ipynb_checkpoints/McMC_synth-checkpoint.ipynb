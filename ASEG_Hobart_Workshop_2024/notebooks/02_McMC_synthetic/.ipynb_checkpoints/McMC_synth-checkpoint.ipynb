{
 "cells": [
  {
   "cell_type": "code",
   "execution_count": null,
   "metadata": {},
   "outputs": [],
   "source": [
    "using PyPlot, HiQGA, Random\n",
    "cd(@__DIR__)"
   ]
  },
  {
   "cell_type": "markdown",
   "metadata": {},
   "source": [
    "# Geometry"
   ]
  },
  {
   "cell_type": "code",
   "execution_count": null,
   "metadata": {},
   "outputs": [],
   "source": [
    "# model fixed parts, i.e., air\n",
    "Random.seed!(23)\n",
    "zfixed   = [-1e5]\n",
    "ρfixed   = [1e12]\n",
    "# Model discretization\n",
    "# Note that the receiver and transmitter need to be in layer 1\n",
    "zstart = 0.0\n",
    "extendfrac, dz = 1.06, 1.5\n",
    "zall, znall, zboundaries = transD_GP.setupz(zstart, extendfrac, dz=dz, n=50, showplot=true)\n",
    "z, ρ, nfixed = transD_GP.makezρ(zboundaries; zfixed=zfixed, ρfixed=ρfixed);\n",
    "rRx = 13."
   ]
  },
  {
   "cell_type": "markdown",
   "metadata": {},
   "source": [
    "# AEM modeling parameters"
   ]
  },
  {
   "cell_type": "code",
   "execution_count": null,
   "metadata": {},
   "outputs": [],
   "source": [
    "# Rx-Tx geometry\n",
    "zRx = -42.0\n",
    "zTx = -40.0\n",
    "include(\"/scratch/ns59/HiQGA.jl/ASEG_Hobart_Workshop_2024/UDF_data/electronics_halt.jl\")\n",
    "calcjacobian = false # switch off for McMC!\n",
    "# make SkyTEM operator\n",
    "aem = transD_GP.SkyTEM1DInversion.dBzdt(;\n",
    "    timeslow = LM_times, ramplow = LM_ramp, zRxlow=zRx, zTxlow = zTx,\n",
    "    timeshigh = HM_times, ramphigh = HM_ramp, zRxhigh=zRx, zTxhigh = zTx,\n",
    "    rRx, rTx, z, ρ, lowpassfcs, calcjacobian);\n",
    "# Create resistivity model in ohm-m\n",
    "ρ[(z.>=zstart) .& (z.<50)] .= 20.\n",
    "ρ[(z.>=50)      .&(z.<80)] .= 1\n",
    "ρ[(z.>=80)     .&(z.<120)] .= 20\n",
    "ρ[(z.>=120)    .&(z.<150)] .= 1\n",
    "ρ[(z.>=150)    .&(z.<250)] .= 50\n",
    "ρ[(z.>=250)]               .= 150\n",
    "# add jitter to model in log10 domain\n",
    "Random.seed!(10)\n",
    "ρ = 10 .^(0.1*randn(length(ρ)) + log10.(ρ))"
   ]
  },
  {
   "cell_type": "markdown",
   "metadata": {},
   "source": [
    "# Plot model and data"
   ]
  },
  {
   "cell_type": "code",
   "execution_count": null,
   "metadata": {},
   "outputs": [],
   "source": [
    "# plot noise free data due to model\n",
    "transD_GP.plotmodelfield!(aem, log10.(ρ[2:end]))\n",
    "# add noise to data\n",
    "transD_GP.SkyTEM1DInversion.makenoisydata!(aem, log10.(ρ[2:end]);\n",
    "    σ_halt_low=LM_noise, σ_halt_high=HM_noise,\n",
    "    units = 1e-12)"
   ]
  },
  {
   "cell_type": "markdown",
   "metadata": {},
   "source": [
    "# Change only if restarting"
   ]
  },
  {
   "cell_type": "code",
   "execution_count": null,
   "metadata": {},
   "outputs": [],
   "source": [
    "restart = false\n",
    "fileprefix = \"SkyTEM_synth_\"\n",
    "if !restart # delete earlier runs if starting afresh\n",
    "    history_mode = \"w\"\n",
    "    deletefiles = [\"misfits_\", \"points_\", \"models_\"].*fileprefix.*\"s.bin\"\n",
    "    [isfile(f) && rm(f) for f in deletefiles]\n",
    "else\n",
    "    history_mode = \"a\"\n",
    "end"
   ]
  },
  {
   "cell_type": "markdown",
   "metadata": {},
   "source": [
    "# Prior settings"
   ]
  },
  {
   "cell_type": "code",
   "execution_count": null,
   "metadata": {},
   "outputs": [],
   "source": [
    "# type of Gaussian Process kernel\n",
    "K = transD_GP.GP.OrstUhn()\n",
    "# number of GP nuclei\n",
    "nmin, nmax = 2, 40\n",
    "# log10 RESISTIVITY bounds to sample between\n",
    "fbounds = [-1 3.]\n",
    "# depth locations in number of layers to interpolate resistivity to\n",
    "xall = copy(permutedims(znall))\n",
    "# bounds of the depth locations\n",
    "xbounds = permutedims([extrema(znall)...])\n",
    "# correlation length in layer number units, tolerance nugget for GP resistivity\n",
    "λ, δ = [2], 0.1"
   ]
  },
  {
   "cell_type": "markdown",
   "metadata": {},
   "source": [
    "# McMC Proposal specifications as fractions of prior bounds"
   ]
  },
  {
   "cell_type": "code",
   "execution_count": null,
   "metadata": {},
   "outputs": [],
   "source": [
    "sdev_pos = 0.05*vec(diff([extrema(znall)...]))\n",
    "sdev_prop = [0.07*diff(fbounds, dims=2)...]\n",
    "sdev_dc = [0.01*diff(fbounds, dims=2)...]"
   ]
  },
  {
   "cell_type": "markdown",
   "metadata": {},
   "source": [
    "# Initialize a stationary GP using these options"
   ]
  },
  {
   "cell_type": "code",
   "execution_count": null,
   "metadata": {},
   "outputs": [],
   "source": [
    "opt = transD_GP.OptionsStat(;\n",
    "            dispstatstoscreen = true, # show/don't stats in Jupyter\n",
    "            nmin, nmax, xbounds, fbounds, fdataname = fileprefix,\n",
    "            xall, λ, δ, sdev_prop, sdev_pos, sdev_dc, history_mode,\n",
    "            quasimultid = false, save_freq = 50, K);\n",
    "# Specify parallel tempering on multiple workers\n",
    "nsamples, nchains, nchainsatone = 2001, 5, 1\n",
    "Tmax = 2.50 # maximum annealing temperature\n",
    "#"
   ]
  },
  {
   "cell_type": "markdown",
   "metadata": {},
   "source": [
    "# Add parallel workers"
   ]
  },
  {
   "cell_type": "code",
   "execution_count": null,
   "metadata": {},
   "outputs": [],
   "source": [
    "using Distributed\n",
    "nprocs() > 1 && rmprocs(workers()) # remove workers from earlier run\n",
    "addprocs(nchains)\n",
    "@info \"workers are $(workers())\"\n",
    "@everywhere using Distributed\n",
    "@everywhere using HiQGA.transD_GP"
   ]
  },
  {
   "cell_type": "markdown",
   "metadata": {},
   "source": [
    "# Run McMC with options on multiple workers"
   ]
  },
  {
   "cell_type": "code",
   "execution_count": null,
   "metadata": {},
   "outputs": [],
   "source": [
    "@time transD_GP.main(opt, aem, Tmax=Tmax, nsamples=nsamples, nchains=nchains, nchainsatone=nchainsatone)\n",
    "rmprocs(workers())"
   ]
  },
  {
   "cell_type": "markdown",
   "metadata": {},
   "source": [
    "# Plot the sampled misfit"
   ]
  },
  {
   "cell_type": "code",
   "execution_count": null,
   "metadata": {},
   "outputs": [],
   "source": [
    "transD_GP.getchi2forall(opt)\n",
    "ax = gcf().axes;\n",
    "χ² = aem.ndatalow + aem.ndatahigh\n",
    "ax[2].plot(xlim(), [χ²/2 , χ²/2], \"--\", color=\"gray\")"
   ]
  },
  {
   "cell_type": "markdown",
   "metadata": {},
   "source": [
    "# Plot the posterior resistivities"
   ]
  },
  {
   "cell_type": "code",
   "execution_count": null,
   "metadata": {},
   "outputs": [],
   "source": [
    "opt.xall[:] .= zall\n",
    "transD_GP.plot_posterior(aem, opt, burninfrac=0.5, figsize=(5,6),\n",
    "    qp1=0.05, qp2=0.95, nbins=50, vmaxpc=1.0)\n",
    "ax = gcf().axes\n",
    "ax[1].invert_xaxis()\n",
    "ax[1].step(log10.(ρ[2:end]), z[2:end], color=\"k\", linewidth=3)\n",
    "ax[1].step(log10.(ρ[2:end]), z[2:end], color=\"y\", linewidth=1.5)"
   ]
  },
  {
   "cell_type": "markdown",
   "metadata": {},
   "source": [
    "# Plot a few forwards from the posterior"
   ]
  },
  {
   "cell_type": "code",
   "execution_count": null,
   "metadata": {},
   "outputs": [],
   "source": [
    "mprob = transD_GP.CommonToAll.assembleTat1(opt, :fstar, temperaturenum=1)\n",
    "transD_GP.plotmodelfield!(aem, mprob[1:10:end]);"
   ]
  },
  {
   "cell_type": "markdown",
   "metadata": {},
   "source": [
    "---\n",
    "\n",
    "*This notebook was generated using [Literate.jl](https://github.com/fredrikekre/Literate.jl).*"
   ]
  }
 ],
 "metadata": {
  "kernelspec": {
   "display_name": "Julia 1.10.5",
   "language": "julia",
   "name": "julia-1.10"
  },
  "language_info": {
   "file_extension": ".jl",
   "mimetype": "application/julia",
   "name": "julia",
   "version": "1.10.5"
  }
 },
 "nbformat": 4,
 "nbformat_minor": 4
}
